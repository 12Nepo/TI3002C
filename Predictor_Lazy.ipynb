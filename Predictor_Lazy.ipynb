{
  "nbformat": 4,
  "nbformat_minor": 0,
  "metadata": {
    "colab": {
      "provenance": [],
      "authorship_tag": "ABX9TyNNX7Nw2ZGXi4nEpHQQ6/yr",
      "include_colab_link": true
    },
    "kernelspec": {
      "name": "python3",
      "display_name": "Python 3"
    },
    "language_info": {
      "name": "python"
    }
  },
  "cells": [
    {
      "cell_type": "markdown",
      "metadata": {
        "id": "view-in-github",
        "colab_type": "text"
      },
      "source": [
        "<a href=\"https://colab.research.google.com/github/freddy-7/TI3002C/blob/main/Predictor_Lazy.ipynb\" target=\"_parent\"><img src=\"https://colab.research.google.com/assets/colab-badge.svg\" alt=\"Open In Colab\"/></a>"
      ]
    },
    {
      "cell_type": "code",
      "execution_count": 141,
      "metadata": {
        "colab": {
          "base_uri": "https://localhost:8080/"
        },
        "id": "drxBH9VXKbwv",
        "outputId": "dad47cc6-6dfa-41ca-ba7e-3a943eeb8096"
      },
      "outputs": [
        {
          "output_type": "stream",
          "name": "stdout",
          "text": [
            "Looking in indexes: https://pypi.org/simple, https://us-python.pkg.dev/colab-wheels/public/simple/\n",
            "Requirement already satisfied: lazypredict in /usr/local/lib/python3.7/dist-packages (0.2.12)\n",
            "Requirement already satisfied: xgboost in /usr/local/lib/python3.7/dist-packages (from lazypredict) (0.90)\n",
            "Requirement already satisfied: tqdm in /usr/local/lib/python3.7/dist-packages (from lazypredict) (4.64.1)\n",
            "Requirement already satisfied: click in /usr/local/lib/python3.7/dist-packages (from lazypredict) (7.1.2)\n",
            "Requirement already satisfied: joblib in /usr/local/lib/python3.7/dist-packages (from lazypredict) (1.2.0)\n",
            "Requirement already satisfied: pandas in /usr/local/lib/python3.7/dist-packages (from lazypredict) (1.3.5)\n",
            "Requirement already satisfied: lightgbm in /usr/local/lib/python3.7/dist-packages (from lazypredict) (2.2.3)\n",
            "Requirement already satisfied: scikit-learn in /usr/local/lib/python3.7/dist-packages (from lazypredict) (1.0.2)\n",
            "Requirement already satisfied: scipy in /usr/local/lib/python3.7/dist-packages (from lightgbm->lazypredict) (1.7.3)\n",
            "Requirement already satisfied: numpy in /usr/local/lib/python3.7/dist-packages (from lightgbm->lazypredict) (1.21.6)\n",
            "Requirement already satisfied: pytz>=2017.3 in /usr/local/lib/python3.7/dist-packages (from pandas->lazypredict) (2022.4)\n",
            "Requirement already satisfied: python-dateutil>=2.7.3 in /usr/local/lib/python3.7/dist-packages (from pandas->lazypredict) (2.8.2)\n",
            "Requirement already satisfied: six>=1.5 in /usr/local/lib/python3.7/dist-packages (from python-dateutil>=2.7.3->pandas->lazypredict) (1.15.0)\n",
            "Requirement already satisfied: threadpoolctl>=2.0.0 in /usr/local/lib/python3.7/dist-packages (from scikit-learn->lazypredict) (3.1.0)\n"
          ]
        }
      ],
      "source": [
        "#Instalamos libreria del predictor al entorno\n",
        "!pip install lazypredict"
      ]
    },
    {
      "cell_type": "code",
      "source": [
        "#Importamos librerias\n",
        "from lazypredict.Supervised import LazyRegressor\n",
        "import matplotlib.pyplot as plt\n",
        "import plotly.graph_objs as go\n",
        "import numpy as np\n",
        "import pandas as pd\n",
        "import seaborn as sns\n",
        "import math\n",
        "from sklearn.model_selection import train_test_split"
      ],
      "metadata": {
        "id": "zN6nKetwKqTX"
      },
      "execution_count": 160,
      "outputs": []
    },
    {
      "cell_type": "code",
      "source": [
        "#Cargar archivo csv desde seaborn\n",
        "df=sns.load_dataset(name='car_crashes')\n",
        "df.head(5)"
      ],
      "metadata": {
        "colab": {
          "base_uri": "https://localhost:8080/",
          "height": 206
        },
        "id": "D_1p94a7LMAs",
        "outputId": "22881510-90a7-4752-c2f6-b91bbb9e4c72"
      },
      "execution_count": 143,
      "outputs": [
        {
          "output_type": "execute_result",
          "data": {
            "text/plain": [
              "   total  speeding  alcohol  not_distracted  no_previous  ins_premium  \\\n",
              "0  18.80      7.33     5.64           18.05        15.04       784.55   \n",
              "1  18.10      7.42     4.53           16.29        17.01      1053.48   \n",
              "2  18.60      6.51     5.21           15.62        17.86       899.47   \n",
              "3  22.40      4.03     5.82           21.06        21.28       827.34   \n",
              "4  12.00      4.20     3.36           10.92        10.68       878.41   \n",
              "\n",
              "   ins_losses abbrev  \n",
              "0      145.08     AL  \n",
              "1      133.93     AK  \n",
              "2      110.35     AZ  \n",
              "3      142.39     AR  \n",
              "4      165.63     CA  "
            ],
            "text/html": [
              "\n",
              "  <div id=\"df-f9e8f11b-5372-4ae0-baef-08d9e4358684\">\n",
              "    <div class=\"colab-df-container\">\n",
              "      <div>\n",
              "<style scoped>\n",
              "    .dataframe tbody tr th:only-of-type {\n",
              "        vertical-align: middle;\n",
              "    }\n",
              "\n",
              "    .dataframe tbody tr th {\n",
              "        vertical-align: top;\n",
              "    }\n",
              "\n",
              "    .dataframe thead th {\n",
              "        text-align: right;\n",
              "    }\n",
              "</style>\n",
              "<table border=\"1\" class=\"dataframe\">\n",
              "  <thead>\n",
              "    <tr style=\"text-align: right;\">\n",
              "      <th></th>\n",
              "      <th>total</th>\n",
              "      <th>speeding</th>\n",
              "      <th>alcohol</th>\n",
              "      <th>not_distracted</th>\n",
              "      <th>no_previous</th>\n",
              "      <th>ins_premium</th>\n",
              "      <th>ins_losses</th>\n",
              "      <th>abbrev</th>\n",
              "    </tr>\n",
              "  </thead>\n",
              "  <tbody>\n",
              "    <tr>\n",
              "      <th>0</th>\n",
              "      <td>18.80</td>\n",
              "      <td>7.33</td>\n",
              "      <td>5.64</td>\n",
              "      <td>18.05</td>\n",
              "      <td>15.04</td>\n",
              "      <td>784.55</td>\n",
              "      <td>145.08</td>\n",
              "      <td>AL</td>\n",
              "    </tr>\n",
              "    <tr>\n",
              "      <th>1</th>\n",
              "      <td>18.10</td>\n",
              "      <td>7.42</td>\n",
              "      <td>4.53</td>\n",
              "      <td>16.29</td>\n",
              "      <td>17.01</td>\n",
              "      <td>1053.48</td>\n",
              "      <td>133.93</td>\n",
              "      <td>AK</td>\n",
              "    </tr>\n",
              "    <tr>\n",
              "      <th>2</th>\n",
              "      <td>18.60</td>\n",
              "      <td>6.51</td>\n",
              "      <td>5.21</td>\n",
              "      <td>15.62</td>\n",
              "      <td>17.86</td>\n",
              "      <td>899.47</td>\n",
              "      <td>110.35</td>\n",
              "      <td>AZ</td>\n",
              "    </tr>\n",
              "    <tr>\n",
              "      <th>3</th>\n",
              "      <td>22.40</td>\n",
              "      <td>4.03</td>\n",
              "      <td>5.82</td>\n",
              "      <td>21.06</td>\n",
              "      <td>21.28</td>\n",
              "      <td>827.34</td>\n",
              "      <td>142.39</td>\n",
              "      <td>AR</td>\n",
              "    </tr>\n",
              "    <tr>\n",
              "      <th>4</th>\n",
              "      <td>12.00</td>\n",
              "      <td>4.20</td>\n",
              "      <td>3.36</td>\n",
              "      <td>10.92</td>\n",
              "      <td>10.68</td>\n",
              "      <td>878.41</td>\n",
              "      <td>165.63</td>\n",
              "      <td>CA</td>\n",
              "    </tr>\n",
              "  </tbody>\n",
              "</table>\n",
              "</div>\n",
              "      <button class=\"colab-df-convert\" onclick=\"convertToInteractive('df-f9e8f11b-5372-4ae0-baef-08d9e4358684')\"\n",
              "              title=\"Convert this dataframe to an interactive table.\"\n",
              "              style=\"display:none;\">\n",
              "        \n",
              "  <svg xmlns=\"http://www.w3.org/2000/svg\" height=\"24px\"viewBox=\"0 0 24 24\"\n",
              "       width=\"24px\">\n",
              "    <path d=\"M0 0h24v24H0V0z\" fill=\"none\"/>\n",
              "    <path d=\"M18.56 5.44l.94 2.06.94-2.06 2.06-.94-2.06-.94-.94-2.06-.94 2.06-2.06.94zm-11 1L8.5 8.5l.94-2.06 2.06-.94-2.06-.94L8.5 2.5l-.94 2.06-2.06.94zm10 10l.94 2.06.94-2.06 2.06-.94-2.06-.94-.94-2.06-.94 2.06-2.06.94z\"/><path d=\"M17.41 7.96l-1.37-1.37c-.4-.4-.92-.59-1.43-.59-.52 0-1.04.2-1.43.59L10.3 9.45l-7.72 7.72c-.78.78-.78 2.05 0 2.83L4 21.41c.39.39.9.59 1.41.59.51 0 1.02-.2 1.41-.59l7.78-7.78 2.81-2.81c.8-.78.8-2.07 0-2.86zM5.41 20L4 18.59l7.72-7.72 1.47 1.35L5.41 20z\"/>\n",
              "  </svg>\n",
              "      </button>\n",
              "      \n",
              "  <style>\n",
              "    .colab-df-container {\n",
              "      display:flex;\n",
              "      flex-wrap:wrap;\n",
              "      gap: 12px;\n",
              "    }\n",
              "\n",
              "    .colab-df-convert {\n",
              "      background-color: #E8F0FE;\n",
              "      border: none;\n",
              "      border-radius: 50%;\n",
              "      cursor: pointer;\n",
              "      display: none;\n",
              "      fill: #1967D2;\n",
              "      height: 32px;\n",
              "      padding: 0 0 0 0;\n",
              "      width: 32px;\n",
              "    }\n",
              "\n",
              "    .colab-df-convert:hover {\n",
              "      background-color: #E2EBFA;\n",
              "      box-shadow: 0px 1px 2px rgba(60, 64, 67, 0.3), 0px 1px 3px 1px rgba(60, 64, 67, 0.15);\n",
              "      fill: #174EA6;\n",
              "    }\n",
              "\n",
              "    [theme=dark] .colab-df-convert {\n",
              "      background-color: #3B4455;\n",
              "      fill: #D2E3FC;\n",
              "    }\n",
              "\n",
              "    [theme=dark] .colab-df-convert:hover {\n",
              "      background-color: #434B5C;\n",
              "      box-shadow: 0px 1px 3px 1px rgba(0, 0, 0, 0.15);\n",
              "      filter: drop-shadow(0px 1px 2px rgba(0, 0, 0, 0.3));\n",
              "      fill: #FFFFFF;\n",
              "    }\n",
              "  </style>\n",
              "\n",
              "      <script>\n",
              "        const buttonEl =\n",
              "          document.querySelector('#df-f9e8f11b-5372-4ae0-baef-08d9e4358684 button.colab-df-convert');\n",
              "        buttonEl.style.display =\n",
              "          google.colab.kernel.accessAllowed ? 'block' : 'none';\n",
              "\n",
              "        async function convertToInteractive(key) {\n",
              "          const element = document.querySelector('#df-f9e8f11b-5372-4ae0-baef-08d9e4358684');\n",
              "          const dataTable =\n",
              "            await google.colab.kernel.invokeFunction('convertToInteractive',\n",
              "                                                     [key], {});\n",
              "          if (!dataTable) return;\n",
              "\n",
              "          const docLinkHtml = 'Like what you see? Visit the ' +\n",
              "            '<a target=\"_blank\" href=https://colab.research.google.com/notebooks/data_table.ipynb>data table notebook</a>'\n",
              "            + ' to learn more about interactive tables.';\n",
              "          element.innerHTML = '';\n",
              "          dataTable['output_type'] = 'display_data';\n",
              "          await google.colab.output.renderOutput(dataTable, element);\n",
              "          const docLink = document.createElement('div');\n",
              "          docLink.innerHTML = docLinkHtml;\n",
              "          element.appendChild(docLink);\n",
              "        }\n",
              "      </script>\n",
              "    </div>\n",
              "  </div>\n",
              "  "
            ]
          },
          "metadata": {},
          "execution_count": 143
        }
      ]
    },
    {
      "cell_type": "markdown",
      "source": [
        "**Buscamos otros modelos con el predictor Lazy**"
      ],
      "metadata": {
        "id": "yJcb1SWqL1ti"
      }
    },
    {
      "cell_type": "code",
      "source": [
        "#Declaramos las variables dependientes e independientes para la regresión No lineal\n",
        "Vars_Indep= df[['ins_losses']]\n",
        "Var_Dep= df['total']"
      ],
      "metadata": {
        "id": "8UJ5GudUL0Sj"
      },
      "execution_count": 144,
      "outputs": []
    },
    {
      "cell_type": "code",
      "source": [
        "#Redefinimos las variables \n",
        "X= Vars_Indep\n",
        "y= Var_Dep"
      ],
      "metadata": {
        "id": "ymn935EeNPTz"
      },
      "execution_count": 145,
      "outputs": []
    },
    {
      "cell_type": "code",
      "source": [
        "#Dividimos el conjunto de datos en la parte de entrenamiento y prueba:\n",
        "X_train, X_test, y_train, y_test = train_test_split(X, y, test_size=0.3, random_state =None)"
      ],
      "metadata": {
        "id": "Zka9_KhRN3Jh"
      },
      "execution_count": 146,
      "outputs": []
    },
    {
      "cell_type": "code",
      "source": [
        "#Vamos a crear un objeto de la clase LazyRegressor:\n",
        "reg = LazyRegressor(verbose=0, ignore_warnings=False, custom_metric = None)"
      ],
      "metadata": {
        "id": "KYIAdXs-O5sj"
      },
      "execution_count": 147,
      "outputs": []
    },
    {
      "cell_type": "code",
      "source": [
        "#Ajustamos nuestros datos de entrenamiento y prueba al objeto LazyRegressor:\n",
        "models, predictions = reg.fit(X_train, X_test, y_train, y_test)\n",
        "\n",
        "print(models)"
      ],
      "metadata": {
        "colab": {
          "base_uri": "https://localhost:8080/"
        },
        "id": "zoNHwHC0PQcD",
        "outputId": "1281bc7a-4652-4e0e-c3b3-27af9b1b731c"
      },
      "execution_count": 148,
      "outputs": [
        {
          "output_type": "stream",
          "name": "stderr",
          "text": [
            " 76%|███████▌  | 32/42 [00:01<00:00, 33.80it/s]"
          ]
        },
        {
          "output_type": "stream",
          "name": "stdout",
          "text": [
            "OrthogonalMatchingPursuitCV model failed to execute\n",
            "Found array with 1 feature(s) (shape=(35, 1)) while a minimum of 2 is required by OrthogonalMatchingPursuitCV.\n"
          ]
        },
        {
          "output_type": "stream",
          "name": "stderr",
          "text": [
            "100%|██████████| 42/42 [00:01<00:00, 25.28it/s]"
          ]
        },
        {
          "output_type": "stream",
          "name": "stdout",
          "text": [
            "[04:18:39] WARNING: /workspace/src/objective/regression_obj.cu:152: reg:linear is now deprecated in favor of reg:squarederror.\n",
            "                               Adjusted R-Squared  R-Squared   RMSE  \\\n",
            "Model                                                                 \n",
            "LinearSVR                                    0.02       0.09   2.83   \n",
            "SGDRegressor                                -0.37      -0.28   3.35   \n",
            "LGBMRegressor                               -0.38      -0.29   3.36   \n",
            "HistGradientBoostingRegressor               -0.38      -0.29   3.36   \n",
            "LassoLarsIC                                 -0.38      -0.29   3.36   \n",
            "LassoLarsCV                                 -0.38      -0.29   3.36   \n",
            "LassoCV                                     -0.38      -0.29   3.36   \n",
            "Lasso                                       -0.38      -0.29   3.36   \n",
            "LarsCV                                      -0.38      -0.29   3.36   \n",
            "LassoLars                                   -0.38      -0.29   3.36   \n",
            "DummyRegressor                              -0.38      -0.29   3.36   \n",
            "ElasticNetCV                                -0.38      -0.29   3.36   \n",
            "ElasticNet                                  -0.38      -0.29   3.36   \n",
            "BayesianRidge                               -0.38      -0.29   3.36   \n",
            "GammaRegressor                              -0.39      -0.30   3.37   \n",
            "TweedieRegressor                            -0.39      -0.30   3.37   \n",
            "RidgeCV                                     -0.40      -0.31   3.38   \n",
            "PoissonRegressor                            -0.41      -0.31   3.39   \n",
            "Ridge                                       -0.41      -0.32   3.39   \n",
            "Lars                                        -0.41      -0.32   3.39   \n",
            "OrthogonalMatchingPursuit                   -0.41      -0.32   3.39   \n",
            "TransformedTargetRegressor                  -0.41      -0.32   3.39   \n",
            "LinearRegression                            -0.41      -0.32   3.39   \n",
            "NuSVR                                       -0.42      -0.32   3.40   \n",
            "HuberRegressor                              -0.51      -0.40   3.50   \n",
            "QuantileRegressor                           -0.61      -0.50   3.63   \n",
            "SVR                                         -0.73      -0.62   3.76   \n",
            "PassiveAggressiveRegressor                  -0.89      -0.77   3.93   \n",
            "KNeighborsRegressor                         -1.09      -0.95   4.13   \n",
            "RANSACRegressor                             -1.29      -1.13   4.32   \n",
            "XGBRegressor                                -1.30      -1.14   4.33   \n",
            "ExtraTreesRegressor                         -1.48      -1.32   4.50   \n",
            "RandomForestRegressor                       -1.57      -1.39   4.57   \n",
            "BaggingRegressor                            -1.63      -1.46   4.64   \n",
            "GradientBoostingRegressor                   -1.70      -1.52   4.69   \n",
            "DecisionTreeRegressor                       -2.22      -2.00   5.12   \n",
            "AdaBoostRegressor                           -2.36      -2.14   5.24   \n",
            "ExtraTreeRegressor                          -3.43      -3.14   6.01   \n",
            "MLPRegressor                                -8.96      -8.30   9.01   \n",
            "KernelRidge                                -26.88     -25.03  15.08   \n",
            "GaussianProcessRegressor                -59334.93  -55379.20 695.57   \n",
            "\n",
            "                               Time Taken  \n",
            "Model                                      \n",
            "LinearSVR                            0.01  \n",
            "SGDRegressor                         0.02  \n",
            "LGBMRegressor                        0.03  \n",
            "HistGradientBoostingRegressor        0.15  \n",
            "LassoLarsIC                          0.01  \n",
            "LassoLarsCV                          0.02  \n",
            "LassoCV                              0.06  \n",
            "Lasso                                0.01  \n",
            "LarsCV                               0.02  \n",
            "LassoLars                            0.01  \n",
            "DummyRegressor                       0.01  \n",
            "ElasticNetCV                         0.08  \n",
            "ElasticNet                           0.01  \n",
            "BayesianRidge                        0.02  \n",
            "GammaRegressor                       0.03  \n",
            "TweedieRegressor                     0.02  \n",
            "RidgeCV                              0.02  \n",
            "PoissonRegressor                     0.01  \n",
            "Ridge                                0.02  \n",
            "Lars                                 0.03  \n",
            "OrthogonalMatchingPursuit            0.01  \n",
            "TransformedTargetRegressor           0.02  \n",
            "LinearRegression                     0.01  \n",
            "NuSVR                                0.02  \n",
            "HuberRegressor                       0.03  \n",
            "QuantileRegressor                    0.03  \n",
            "SVR                                  0.02  \n",
            "PassiveAggressiveRegressor           0.01  \n",
            "KNeighborsRegressor                  0.02  \n",
            "RANSACRegressor                      0.03  \n",
            "XGBRegressor                         0.04  \n",
            "ExtraTreesRegressor                  0.20  \n",
            "RandomForestRegressor                0.27  \n",
            "BaggingRegressor                     0.03  \n",
            "GradientBoostingRegressor            0.07  \n",
            "DecisionTreeRegressor                0.01  \n",
            "AdaBoostRegressor                    0.08  \n",
            "ExtraTreeRegressor                   0.01  \n",
            "MLPRegressor                         0.10  \n",
            "KernelRidge                          0.02  \n",
            "GaussianProcessRegressor             0.02  \n"
          ]
        },
        {
          "output_type": "stream",
          "name": "stderr",
          "text": [
            "\n"
          ]
        }
      ]
    },
    {
      "cell_type": "code",
      "source": [
        "#Importamos la función del modelo con mejor desempeño de la libreria Sklearn\n",
        "from sklearn.svm import LinearSVR\n",
        "from sklearn.metrics import mean_squared_error"
      ],
      "metadata": {
        "id": "39XysptgR8uU"
      },
      "execution_count": 153,
      "outputs": []
    },
    {
      "cell_type": "code",
      "source": [
        "#Ajustamos el modelo con los parámetros por default\n",
        "L_SVR = LinearSVR()\n",
        "L_SVR.fit(X_train, y_train)"
      ],
      "metadata": {
        "colab": {
          "base_uri": "https://localhost:8080/"
        },
        "id": "QzaSlHiTYY7q",
        "outputId": "125a2fea-c6ab-4e01-b19e-d090d240e0cd"
      },
      "execution_count": 155,
      "outputs": [
        {
          "output_type": "execute_result",
          "data": {
            "text/plain": [
              "LinearSVR()"
            ]
          },
          "metadata": {},
          "execution_count": 155
        }
      ]
    },
    {
      "cell_type": "code",
      "source": [
        "#Obtenemos datos predecidos\n",
        "ypred = L_SVR.predict(X_test)\n",
        "ypred"
      ],
      "metadata": {
        "colab": {
          "base_uri": "https://localhost:8080/"
        },
        "id": "iETbNIjjZLlk",
        "outputId": "0b271a0e-4abb-48fe-cc85-67fc40b2dff5"
      },
      "execution_count": 157,
      "outputs": [
        {
          "output_type": "execute_result",
          "data": {
            "text/plain": [
              "array([10.86366848, 11.20623411,  9.88728978,  7.93319944,  8.31575327,\n",
              "       10.20586248,  8.61366541, 10.2858389 ,  6.63624862, 12.09263934,\n",
              "       10.57042163,  8.25777038, 10.9589737 ,  8.26643449,  6.47629579,\n",
              "       10.58841632])"
            ]
          },
          "metadata": {},
          "execution_count": 157
        }
      ]
    },
    {
      "cell_type": "code",
      "source": [
        "#Obtenemos el error cuadrático medio \n",
        "mse = mean_squared_error(y_test,ypred)\n",
        "print(\"MSE: %.2f\" % mse)"
      ],
      "metadata": {
        "id": "3kmWtjIAaD6C"
      },
      "execution_count": null,
      "outputs": []
    },
    {
      "cell_type": "code",
      "source": [
        "#Obtenemos la gráfica de la predicción\n",
        "x_ax = range(len(y_test))\n",
        "plt.scatter(x_ax, y_test, s=5, color=\"blue\", label=\"original\")\n",
        "plt.plot(x_ax, ypred, lw=0.8, color=\"red\", label=\"predicted\")\n",
        "plt.legend()\n",
        "plt.show()"
      ],
      "metadata": {
        "colab": {
          "base_uri": "https://localhost:8080/",
          "height": 267
        },
        "id": "Sa6YVy_MaLwC",
        "outputId": "64560a09-2a2f-472a-d2a3-2fd9b3d70594"
      },
      "execution_count": 161,
      "outputs": [
        {
          "output_type": "display_data",
          "data": {
            "text/plain": [
              "<Figure size 432x288 with 1 Axes>"
            ],
            "image/png": "[encoded data removed]"
          },
          "metadata": {
            "needs_background": "light"
          }
        }
      ]
    }
  ]
}