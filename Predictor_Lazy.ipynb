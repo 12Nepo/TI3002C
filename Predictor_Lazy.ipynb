{
  "nbformat": 4,
  "nbformat_minor": 0,
  "metadata": {
    "colab": {
      "provenance": [],
      "authorship_tag": "ABX9TyNqwoJCluMvd3ytWXtTMfno",
      "include_colab_link": true
    },
    "kernelspec": {
      "name": "python3",
      "display_name": "Python 3"
    },
    "language_info": {
      "name": "python"
    }
  },
  "cells": [
    {
      "cell_type": "markdown",
      "metadata": {
        "id": "view-in-github",
        "colab_type": "text"
      },
      "source": [
        "<a href=\"https://colab.research.google.com/github/freddy-7/TI3002C/blob/main/Predictor_Lazy.ipynb\" target=\"_parent\"><img src=\"https://colab.research.google.com/assets/colab-badge.svg\" alt=\"Open In Colab\"/></a>"
      ]
    },
    {
      "cell_type": "code",
      "execution_count": 18,
      "metadata": {
        "colab": {
          "base_uri": "https://localhost:8080/"
        },
        "id": "drxBH9VXKbwv",
        "outputId": "e08dfb15-33bf-412a-fe49-37120bbacefd"
      },
      "outputs": [
        {
          "output_type": "stream",
          "name": "stdout",
          "text": [
            "Looking in indexes: https://pypi.org/simple, https://us-python.pkg.dev/colab-wheels/public/simple/\n",
            "Requirement already satisfied: lazypredict in /usr/local/lib/python3.7/dist-packages (0.2.12)\n",
            "Requirement already satisfied: tqdm in /usr/local/lib/python3.7/dist-packages (from lazypredict) (4.64.1)\n",
            "Requirement already satisfied: lightgbm in /usr/local/lib/python3.7/dist-packages (from lazypredict) (2.2.3)\n",
            "Requirement already satisfied: pandas in /usr/local/lib/python3.7/dist-packages (from lazypredict) (1.3.5)\n",
            "Requirement already satisfied: joblib in /usr/local/lib/python3.7/dist-packages (from lazypredict) (1.2.0)\n",
            "Requirement already satisfied: click in /usr/local/lib/python3.7/dist-packages (from lazypredict) (7.1.2)\n",
            "Requirement already satisfied: xgboost in /usr/local/lib/python3.7/dist-packages (from lazypredict) (0.90)\n",
            "Requirement already satisfied: scikit-learn in /usr/local/lib/python3.7/dist-packages (from lazypredict) (1.0.2)\n",
            "Requirement already satisfied: numpy in /usr/local/lib/python3.7/dist-packages (from lightgbm->lazypredict) (1.21.6)\n",
            "Requirement already satisfied: scipy in /usr/local/lib/python3.7/dist-packages (from lightgbm->lazypredict) (1.7.3)\n",
            "Requirement already satisfied: pytz>=2017.3 in /usr/local/lib/python3.7/dist-packages (from pandas->lazypredict) (2022.4)\n",
            "Requirement already satisfied: python-dateutil>=2.7.3 in /usr/local/lib/python3.7/dist-packages (from pandas->lazypredict) (2.8.2)\n",
            "Requirement already satisfied: six>=1.5 in /usr/local/lib/python3.7/dist-packages (from python-dateutil>=2.7.3->pandas->lazypredict) (1.15.0)\n",
            "Requirement already satisfied: threadpoolctl>=2.0.0 in /usr/local/lib/python3.7/dist-packages (from scikit-learn->lazypredict) (3.1.0)\n"
          ]
        }
      ],
      "source": [
        "#Instalamos libreria del predictor al entorno\n",
        "!pip install lazypredict"
      ]
    },
    {
      "cell_type": "code",
      "source": [
        "#Importamos librerias\n",
        "from lazypredict.Supervised import LazyRegressor\n",
        "import plotly.graph_objs as go\n",
        "import numpy as np\n",
        "import pandas as pd\n",
        "import seaborn as sns\n",
        "import math\n",
        "from sklearn.model_selection import train_test_split"
      ],
      "metadata": {
        "id": "zN6nKetwKqTX"
      },
      "execution_count": 19,
      "outputs": []
    },
    {
      "cell_type": "code",
      "source": [
        "#Cargar archivo csv desde seaborn\n",
        "df=sns.load_dataset(name='car_crashes')\n",
        "df.head(5)"
      ],
      "metadata": {
        "colab": {
          "base_uri": "https://localhost:8080/",
          "height": 206
        },
        "id": "D_1p94a7LMAs",
        "outputId": "2ce7737f-da7a-423f-d33b-71e70d14abde"
      },
      "execution_count": 20,
      "outputs": [
        {
          "output_type": "execute_result",
          "data": {
            "text/plain": [
              "   total  speeding  alcohol  not_distracted  no_previous  ins_premium  \\\n",
              "0  18.80      7.33     5.64           18.05        15.04       784.55   \n",
              "1  18.10      7.42     4.53           16.29        17.01      1053.48   \n",
              "2  18.60      6.51     5.21           15.62        17.86       899.47   \n",
              "3  22.40      4.03     5.82           21.06        21.28       827.34   \n",
              "4  12.00      4.20     3.36           10.92        10.68       878.41   \n",
              "\n",
              "   ins_losses abbrev  \n",
              "0      145.08     AL  \n",
              "1      133.93     AK  \n",
              "2      110.35     AZ  \n",
              "3      142.39     AR  \n",
              "4      165.63     CA  "
            ],
            "text/html": [
              "\n",
              "  <div id=\"df-a7dbb9ba-8fb3-44b0-a4e1-6daa364a5023\">\n",
              "    <div class=\"colab-df-container\">\n",
              "      <div>\n",
              "<style scoped>\n",
              "    .dataframe tbody tr th:only-of-type {\n",
              "        vertical-align: middle;\n",
              "    }\n",
              "\n",
              "    .dataframe tbody tr th {\n",
              "        vertical-align: top;\n",
              "    }\n",
              "\n",
              "    .dataframe thead th {\n",
              "        text-align: right;\n",
              "    }\n",
              "</style>\n",
              "<table border=\"1\" class=\"dataframe\">\n",
              "  <thead>\n",
              "    <tr style=\"text-align: right;\">\n",
              "      <th></th>\n",
              "      <th>total</th>\n",
              "      <th>speeding</th>\n",
              "      <th>alcohol</th>\n",
              "      <th>not_distracted</th>\n",
              "      <th>no_previous</th>\n",
              "      <th>ins_premium</th>\n",
              "      <th>ins_losses</th>\n",
              "      <th>abbrev</th>\n",
              "    </tr>\n",
              "  </thead>\n",
              "  <tbody>\n",
              "    <tr>\n",
              "      <th>0</th>\n",
              "      <td>18.80</td>\n",
              "      <td>7.33</td>\n",
              "      <td>5.64</td>\n",
              "      <td>18.05</td>\n",
              "      <td>15.04</td>\n",
              "      <td>784.55</td>\n",
              "      <td>145.08</td>\n",
              "      <td>AL</td>\n",
              "    </tr>\n",
              "    <tr>\n",
              "      <th>1</th>\n",
              "      <td>18.10</td>\n",
              "      <td>7.42</td>\n",
              "      <td>4.53</td>\n",
              "      <td>16.29</td>\n",
              "      <td>17.01</td>\n",
              "      <td>1053.48</td>\n",
              "      <td>133.93</td>\n",
              "      <td>AK</td>\n",
              "    </tr>\n",
              "    <tr>\n",
              "      <th>2</th>\n",
              "      <td>18.60</td>\n",
              "      <td>6.51</td>\n",
              "      <td>5.21</td>\n",
              "      <td>15.62</td>\n",
              "      <td>17.86</td>\n",
              "      <td>899.47</td>\n",
              "      <td>110.35</td>\n",
              "      <td>AZ</td>\n",
              "    </tr>\n",
              "    <tr>\n",
              "      <th>3</th>\n",
              "      <td>22.40</td>\n",
              "      <td>4.03</td>\n",
              "      <td>5.82</td>\n",
              "      <td>21.06</td>\n",
              "      <td>21.28</td>\n",
              "      <td>827.34</td>\n",
              "      <td>142.39</td>\n",
              "      <td>AR</td>\n",
              "    </tr>\n",
              "    <tr>\n",
              "      <th>4</th>\n",
              "      <td>12.00</td>\n",
              "      <td>4.20</td>\n",
              "      <td>3.36</td>\n",
              "      <td>10.92</td>\n",
              "      <td>10.68</td>\n",
              "      <td>878.41</td>\n",
              "      <td>165.63</td>\n",
              "      <td>CA</td>\n",
              "    </tr>\n",
              "  </tbody>\n",
              "</table>\n",
              "</div>\n",
              "      <button class=\"colab-df-convert\" onclick=\"convertToInteractive('df-a7dbb9ba-8fb3-44b0-a4e1-6daa364a5023')\"\n",
              "              title=\"Convert this dataframe to an interactive table.\"\n",
              "              style=\"display:none;\">\n",
              "        \n",
              "  <svg xmlns=\"http://www.w3.org/2000/svg\" height=\"24px\"viewBox=\"0 0 24 24\"\n",
              "       width=\"24px\">\n",
              "    <path d=\"M0 0h24v24H0V0z\" fill=\"none\"/>\n",
              "    <path d=\"M18.56 5.44l.94 2.06.94-2.06 2.06-.94-2.06-.94-.94-2.06-.94 2.06-2.06.94zm-11 1L8.5 8.5l.94-2.06 2.06-.94-2.06-.94L8.5 2.5l-.94 2.06-2.06.94zm10 10l.94 2.06.94-2.06 2.06-.94-2.06-.94-.94-2.06-.94 2.06-2.06.94z\"/><path d=\"M17.41 7.96l-1.37-1.37c-.4-.4-.92-.59-1.43-.59-.52 0-1.04.2-1.43.59L10.3 9.45l-7.72 7.72c-.78.78-.78 2.05 0 2.83L4 21.41c.39.39.9.59 1.41.59.51 0 1.02-.2 1.41-.59l7.78-7.78 2.81-2.81c.8-.78.8-2.07 0-2.86zM5.41 20L4 18.59l7.72-7.72 1.47 1.35L5.41 20z\"/>\n",
              "  </svg>\n",
              "      </button>\n",
              "      \n",
              "  <style>\n",
              "    .colab-df-container {\n",
              "      display:flex;\n",
              "      flex-wrap:wrap;\n",
              "      gap: 12px;\n",
              "    }\n",
              "\n",
              "    .colab-df-convert {\n",
              "      background-color: #E8F0FE;\n",
              "      border: none;\n",
              "      border-radius: 50%;\n",
              "      cursor: pointer;\n",
              "      display: none;\n",
              "      fill: #1967D2;\n",
              "      height: 32px;\n",
              "      padding: 0 0 0 0;\n",
              "      width: 32px;\n",
              "    }\n",
              "\n",
              "    .colab-df-convert:hover {\n",
              "      background-color: #E2EBFA;\n",
              "      box-shadow: 0px 1px 2px rgba(60, 64, 67, 0.3), 0px 1px 3px 1px rgba(60, 64, 67, 0.15);\n",
              "      fill: #174EA6;\n",
              "    }\n",
              "\n",
              "    [theme=dark] .colab-df-convert {\n",
              "      background-color: #3B4455;\n",
              "      fill: #D2E3FC;\n",
              "    }\n",
              "\n",
              "    [theme=dark] .colab-df-convert:hover {\n",
              "      background-color: #434B5C;\n",
              "      box-shadow: 0px 1px 3px 1px rgba(0, 0, 0, 0.15);\n",
              "      filter: drop-shadow(0px 1px 2px rgba(0, 0, 0, 0.3));\n",
              "      fill: #FFFFFF;\n",
              "    }\n",
              "  </style>\n",
              "\n",
              "      <script>\n",
              "        const buttonEl =\n",
              "          document.querySelector('#df-a7dbb9ba-8fb3-44b0-a4e1-6daa364a5023 button.colab-df-convert');\n",
              "        buttonEl.style.display =\n",
              "          google.colab.kernel.accessAllowed ? 'block' : 'none';\n",
              "\n",
              "        async function convertToInteractive(key) {\n",
              "          const element = document.querySelector('#df-a7dbb9ba-8fb3-44b0-a4e1-6daa364a5023');\n",
              "          const dataTable =\n",
              "            await google.colab.kernel.invokeFunction('convertToInteractive',\n",
              "                                                     [key], {});\n",
              "          if (!dataTable) return;\n",
              "\n",
              "          const docLinkHtml = 'Like what you see? Visit the ' +\n",
              "            '<a target=\"_blank\" href=https://colab.research.google.com/notebooks/data_table.ipynb>data table notebook</a>'\n",
              "            + ' to learn more about interactive tables.';\n",
              "          element.innerHTML = '';\n",
              "          dataTable['output_type'] = 'display_data';\n",
              "          await google.colab.output.renderOutput(dataTable, element);\n",
              "          const docLink = document.createElement('div');\n",
              "          docLink.innerHTML = docLinkHtml;\n",
              "          element.appendChild(docLink);\n",
              "        }\n",
              "      </script>\n",
              "    </div>\n",
              "  </div>\n",
              "  "
            ]
          },
          "metadata": {},
          "execution_count": 20
        }
      ]
    },
    {
      "cell_type": "markdown",
      "source": [
        "**Buscamos otros modelos con el predictor Lazy**"
      ],
      "metadata": {
        "id": "yJcb1SWqL1ti"
      }
    },
    {
      "cell_type": "code",
      "source": [
        "#Declaramos las variables dependientes e independientes para la regresión No lineal\n",
        "Vars_Indep= df[['ins_losses']]\n",
        "Var_Dep= df['total']"
      ],
      "metadata": {
        "id": "8UJ5GudUL0Sj"
      },
      "execution_count": 21,
      "outputs": []
    },
    {
      "cell_type": "code",
      "source": [
        "#Redefinimos las variables \n",
        "X= Vars_Indep\n",
        "y= Var_Dep"
      ],
      "metadata": {
        "id": "ymn935EeNPTz"
      },
      "execution_count": 22,
      "outputs": []
    },
    {
      "cell_type": "code",
      "source": [
        "#Dividimos el conjunto de datos en la parte de entrenamiento y prueba:\n",
        "X_train, X_test, y_train, y_test = train_test_split(X, y, test_size=0.2, random_state =123)"
      ],
      "metadata": {
        "id": "Zka9_KhRN3Jh"
      },
      "execution_count": 23,
      "outputs": []
    },
    {
      "cell_type": "code",
      "source": [
        "#Vamos a crear un objeto de la clase LazyRegressor:\n",
        "reg = LazyRegressor(verbose=0, ignore_warnings=False, custom_metric = None)"
      ],
      "metadata": {
        "id": "KYIAdXs-O5sj"
      },
      "execution_count": 24,
      "outputs": []
    },
    {
      "cell_type": "code",
      "source": [
        "#Ajustamos nuestros datos de entrenamiento y prueba al objeto LazyRegressor:\n",
        "models, predictions = reg.fit(X_train, X_test, y_train, y_test)\n",
        "\n",
        "print(models)"
      ],
      "metadata": {
        "colab": {
          "base_uri": "https://localhost:8080/"
        },
        "id": "zoNHwHC0PQcD",
        "outputId": "012f55f2-b5bf-4d0c-bf53-10b62ccd647d"
      },
      "execution_count": 25,
      "outputs": [
        {
          "output_type": "stream",
          "name": "stderr",
          "text": [
            " 76%|███████▌  | 32/42 [00:01<00:00, 35.66it/s]"
          ]
        },
        {
          "output_type": "stream",
          "name": "stdout",
          "text": [
            "OrthogonalMatchingPursuitCV model failed to execute\n",
            "Found array with 1 feature(s) (shape=(40, 1)) while a minimum of 2 is required by OrthogonalMatchingPursuitCV.\n"
          ]
        },
        {
          "output_type": "stream",
          "name": "stderr",
          "text": [
            "100%|██████████| 42/42 [00:01<00:00, 29.67it/s]"
          ]
        },
        {
          "output_type": "stream",
          "name": "stdout",
          "text": [
            "[03:45:49] WARNING: /workspace/src/objective/regression_obj.cu:152: reg:linear is now deprecated in favor of reg:squarederror.\n",
            "                               Adjusted R-Squared  R-Squared   RMSE  \\\n",
            "Model                                                                 \n",
            "PassiveAggressiveRegressor                  -0.07       0.04   4.13   \n",
            "QuantileRegressor                           -0.18      -0.06   4.34   \n",
            "LGBMRegressor                               -0.21      -0.09   4.39   \n",
            "Lasso                                       -0.21      -0.09   4.39   \n",
            "LassoLarsIC                                 -0.21      -0.09   4.39   \n",
            "LassoLars                                   -0.21      -0.09   4.39   \n",
            "DummyRegressor                              -0.21      -0.09   4.39   \n",
            "ElasticNet                                  -0.25      -0.13   4.47   \n",
            "NuSVR                                       -0.25      -0.13   4.47   \n",
            "HistGradientBoostingRegressor               -0.26      -0.13   4.48   \n",
            "BayesianRidge                               -0.27      -0.14   4.50   \n",
            "GammaRegressor                              -0.31      -0.18   4.57   \n",
            "TweedieRegressor                            -0.31      -0.18   4.58   \n",
            "AdaBoostRegressor                           -0.33      -0.20   4.61   \n",
            "BaggingRegressor                            -0.34      -0.21   4.62   \n",
            "RidgeCV                                     -0.39      -0.25   4.71   \n",
            "LinearSVR                                   -0.40      -0.26   4.73   \n",
            "SVR                                         -0.42      -0.27   4.75   \n",
            "PoissonRegressor                            -0.42      -0.28   4.76   \n",
            "XGBRegressor                                -0.43      -0.28   4.77   \n",
            "SGDRegressor                                -0.43      -0.29   4.77   \n",
            "Ridge                                       -0.44      -0.29   4.79   \n",
            "RandomForestRegressor                       -0.44      -0.30   4.79   \n",
            "ElasticNetCV                                -0.44      -0.30   4.80   \n",
            "LassoCV                                     -0.44      -0.30   4.80   \n",
            "Lars                                        -0.44      -0.30   4.80   \n",
            "TransformedTargetRegressor                  -0.44      -0.30   4.80   \n",
            "LarsCV                                      -0.44      -0.30   4.80   \n",
            "LinearRegression                            -0.44      -0.30   4.80   \n",
            "OrthogonalMatchingPursuit                   -0.44      -0.30   4.80   \n",
            "LassoLarsCV                                 -0.44      -0.30   4.80   \n",
            "HuberRegressor                              -0.44      -0.30   4.80   \n",
            "KNeighborsRegressor                         -0.50      -0.35   4.89   \n",
            "GradientBoostingRegressor                   -0.54      -0.38   4.95   \n",
            "ExtraTreesRegressor                         -0.63      -0.46   5.09   \n",
            "DecisionTreeRegressor                       -0.63      -0.47   5.11   \n",
            "ExtraTreeRegressor                          -0.68      -0.51   5.17   \n",
            "RANSACRegressor                             -1.24      -1.01   5.98   \n",
            "MLPRegressor                                -4.99      -4.39   9.78   \n",
            "KernelRidge                                -14.13     -12.61  15.54   \n",
            "GaussianProcessRegressor                  -848.87    -763.89 116.47   \n",
            "\n",
            "                               Time Taken  \n",
            "Model                                      \n",
            "PassiveAggressiveRegressor           0.01  \n",
            "QuantileRegressor                    0.04  \n",
            "LGBMRegressor                        0.01  \n",
            "Lasso                                0.01  \n",
            "LassoLarsIC                          0.01  \n",
            "LassoLars                            0.01  \n",
            "DummyRegressor                       0.01  \n",
            "ElasticNet                           0.01  \n",
            "NuSVR                                0.02  \n",
            "HistGradientBoostingRegressor        0.23  \n",
            "BayesianRidge                        0.02  \n",
            "GammaRegressor                       0.02  \n",
            "TweedieRegressor                     0.01  \n",
            "AdaBoostRegressor                    0.08  \n",
            "BaggingRegressor                     0.02  \n",
            "RidgeCV                              0.01  \n",
            "LinearSVR                            0.01  \n",
            "SVR                                  0.01  \n",
            "PoissonRegressor                     0.01  \n",
            "XGBRegressor                         0.02  \n",
            "SGDRegressor                         0.01  \n",
            "Ridge                                0.01  \n",
            "RandomForestRegressor                0.21  \n",
            "ElasticNetCV                         0.05  \n",
            "LassoCV                              0.05  \n",
            "Lars                                 0.01  \n",
            "TransformedTargetRegressor           0.01  \n",
            "LarsCV                               0.01  \n",
            "LinearRegression                     0.01  \n",
            "OrthogonalMatchingPursuit            0.02  \n",
            "LassoLarsCV                          0.01  \n",
            "HuberRegressor                       0.01  \n",
            "KNeighborsRegressor                  0.01  \n",
            "GradientBoostingRegressor            0.06  \n",
            "ExtraTreesRegressor                  0.14  \n",
            "DecisionTreeRegressor                0.01  \n",
            "ExtraTreeRegressor                   0.01  \n",
            "RANSACRegressor                      0.03  \n",
            "MLPRegressor                         0.11  \n",
            "KernelRidge                          0.01  \n",
            "GaussianProcessRegressor             0.01  \n"
          ]
        },
        {
          "output_type": "stream",
          "name": "stderr",
          "text": [
            "\n"
          ]
        }
      ]
    }
  ]
}