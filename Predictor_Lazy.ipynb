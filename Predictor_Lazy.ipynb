{
  "nbformat": 4,
  "nbformat_minor": 0,
  "metadata": {
    "colab": {
      "provenance": [],
      "authorship_tag": "ABX9TyNk08go0X8nSNtY2As8T1Zr",
      "include_colab_link": true
    },
    "kernelspec": {
      "name": "python3",
      "display_name": "Python 3"
    },
    "language_info": {
      "name": "python"
    }
  },
  "cells": [
    {
      "cell_type": "markdown",
      "metadata": {
        "id": "view-in-github",
        "colab_type": "text"
      },
      "source": [
        "<a href=\"https://colab.research.google.com/github/freddy-7/TI3002C/blob/main/Predictor_Lazy.ipynb\" target=\"_parent\"><img src=\"https://colab.research.google.com/assets/colab-badge.svg\" alt=\"Open In Colab\"/></a>"
      ]
    },
    {
      "cell_type": "code",
      "execution_count": null,
      "metadata": {
        "id": "drxBH9VXKbwv"
      },
      "outputs": [],
      "source": [
        "#Instalamos libreria del predictor al entorno\n",
        "!pip install lazypredict"
      ]
    },
    {
      "cell_type": "code",
      "source": [
        "#Importamos librerias\n",
        "from lazypredict.Supervised import LazyRegressor\n",
        "import plotly.graph_objs as go\n",
        "import numpy as np\n",
        "import pandas as pd\n",
        "import seaborn as sns\n",
        "import math\n",
        "from sklearn.model_selection import train_test_split"
      ],
      "metadata": {
        "id": "zN6nKetwKqTX"
      },
      "execution_count": 6,
      "outputs": []
    },
    {
      "cell_type": "code",
      "source": [
        "#Cargar archivo csv desde seaborn\n",
        "df=sns.load_dataset(name='car_crashes')\n",
        "df.head(5)"
      ],
      "metadata": {
        "id": "D_1p94a7LMAs"
      },
      "execution_count": null,
      "outputs": []
    },
    {
      "cell_type": "markdown",
      "source": [
        "**Buscamos otros modelos con el predictor Lazy**"
      ],
      "metadata": {
        "id": "yJcb1SWqL1ti"
      }
    },
    {
      "cell_type": "code",
      "source": [
        "#Declaramos las variables dependientes e independientes para la regresión No lineal\n",
        "Vars_Indep= df[['ins_losses']]\n",
        "Var_Dep= df['total']"
      ],
      "metadata": {
        "id": "8UJ5GudUL0Sj"
      },
      "execution_count": null,
      "outputs": []
    },
    {
      "cell_type": "code",
      "source": [
        "#Redefinimos las variables \n",
        "X= Vars_Indep\n",
        "y= Var_Dep"
      ],
      "metadata": {
        "id": "ymn935EeNPTz"
      },
      "execution_count": null,
      "outputs": []
    }
  ]
}